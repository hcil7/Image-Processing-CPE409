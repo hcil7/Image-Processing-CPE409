{
 "cells": [
  {
   "cell_type": "code",
   "execution_count": 2,
   "id": "6d203e4d",
   "metadata": {},
   "outputs": [
    {
     "data": {
      "image/png": "[encoded data removed]",
      "text/plain": [
       "<Figure size 432x288 with 1 Axes>"
      ]
     },
     "metadata": {
      "needs_background": "light"
     },
     "output_type": "display_data"
    }
   ],
   "source": [
    "\n",
    "import random\n",
    "import cv2\n",
    "import numpy as np\n",
    "from matplotlib import pyplot as plt\n",
    "def add_noise(img):\n",
    " \n",
    "    row , col = img.shape\n",
    "     \n",
    "\n",
    "    number_of_pixels = random.randint(300, 10000)\n",
    "    for i in range(number_of_pixels):\n",
    "        y_coord=random.randint(0, row - 1)\n",
    "        x_coord=random.randint(0, col - 1)   \n",
    "        \n",
    "        img[y_coord][x_coord] = 255\n",
    "         \n",
    "\n",
    "    number_of_pixels = random.randint(300 , 10000)\n",
    "    for i in range(number_of_pixels):\n",
    "\n",
    "        y_coord=random.randint(0, row - 1)\n",
    "         \n",
    "        x_coord=random.randint(0, col - 1)\n",
    "\n",
    "        img[y_coord][x_coord] = 0\n",
    "         \n",
    "    return img\n",
    "\n",
    "img = cv2.imread('view.jpg',\n",
    "                 cv2.IMREAD_GRAYSCALE)\n",
    "\n",
    "cv2.imwrite('view-salt-paper.jpg',\n",
    "            add_noise(img))\n",
    "salt=cv2.imread('view-salt-paper.jpg')\n",
    "cv2.imshow('salt and paper',salt)\n",
    "\n",
    "\n",
    "hist,bins = np.histogram(salt.flatten(),256,[0,256])\n",
    "cdf = hist.cumsum()\n",
    "cdf_normalized = cdf * float(hist.max()) / cdf.max()\n",
    "plt.plot(cdf_normalized, color = 'b')\n",
    "plt.hist(img.flatten(),256,[0,256], color = 'r')\n",
    "plt.xlim([0,256])\n",
    "plt.legend(('cdf','histogram'), loc = 'upper left')\n",
    "plt.show()\n",
    "cv2.waitKey(0)\n",
    "cv2.destroyAllWindows()"
   ]
  },
  {
   "cell_type": "code",
   "execution_count": null,
   "id": "f69ff1a7",
   "metadata": {},
   "outputs": [],
   "source": []
  }
 ],
 "metadata": {
  "kernelspec": {
   "display_name": "Python 3 (ipykernel)",
   "language": "python",
   "name": "python3"
  },
  "language_info": {
   "codemirror_mode": {
    "name": "ipython",
    "version": 3
   },
   "file_extension": ".py",
   "mimetype": "text/x-python",
   "name": "python",
   "nbconvert_exporter": "python",
   "pygments_lexer": "ipython3",
   "version": "3.9.12"
  }
 },
 "nbformat": 4,
 "nbformat_minor": 5
}
