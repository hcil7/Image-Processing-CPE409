{
 "cells": [
  {
   "cell_type": "code",
   "execution_count": 36,
   "id": "9ea93306",
   "metadata": {},
   "outputs": [],
   "source": [
    "import cv2\n",
    "import numpy as np\n",
    "from math import ceil\n",
    "img=cv2.imread('moon.jpg')\n",
    "gray=cv2.cvtColor(img,cv2.COLOR_BGR2GRAY)\n",
    "img_gaussian=cv2.GaussianBlur(gray,(3,3),0)\n",
    "\n",
    "#Sobel Cross Filter\n",
    "sobelx=cv2.Sobel(img_gaussian,cv2.CV_8U,1,0,ksize=5)\n",
    "sobely=cv2.Sobel(img_gaussian,cv2.CV_8U,0,1,ksize=5)\n",
    "sobel=sobelx + sobely\n",
    "\n",
    "#Prewitt Cross Filter\n",
    "kernelx=np.array([[1,1,1,],[0,0,0],[-1,-1,-1]])\n",
    "kernely=np.array([[-1,0,1,],[-1,0,1],[-1,0,1]])\n",
    "prewittx=cv2.filter2D(img_gaussian,-1,kernelx)\n",
    "prewitty=cv2.filter2D(img_gaussian,-1,kernely)\n",
    "prewitt=prewittx+prewitty\n",
    "\n",
    "\n",
    "#Robert Cross Filter\n",
    "\n",
    "kernx = np.array([[1, 0], [0, -1]])\n",
    "kerny = np.array([[0, 1], [-1, 0]])\n",
    "robertx = cv2.filter2D(img, -1, kernx)\n",
    "roberty = cv2.filter2D(img, -1, kerny)\n",
    "robert = cv2.addWeighted(robertx, 0.5, roberty, 0.5, 0)\n",
    "\n",
    "cv2.imshow(\"original\",img)\n",
    "cv2.imshow(\"sobel\",sobel)\n",
    "cv2.imshow(\"prewit\",prewitt)\n",
    "cv2.imshow(\"robert\",robert)\n",
    "cv2.waitKey(0)\n",
    "cv2.destroyAllWindows()"
   ]
  },
  {
   "cell_type": "code",
   "execution_count": null,
   "id": "c3dee752",
   "metadata": {},
   "outputs": [],
   "source": []
  }
 ],
 "metadata": {
  "kernelspec": {
   "display_name": "Python 3 (ipykernel)",
   "language": "python",
   "name": "python3"
  },
  "language_info": {
   "codemirror_mode": {
    "name": "ipython",
    "version": 3
   },
   "file_extension": ".py",
   "mimetype": "text/x-python",
   "name": "python",
   "nbconvert_exporter": "python",
   "pygments_lexer": "ipython3",
   "version": "3.9.12"
  }
 },
 "nbformat": 4,
 "nbformat_minor": 5
}
