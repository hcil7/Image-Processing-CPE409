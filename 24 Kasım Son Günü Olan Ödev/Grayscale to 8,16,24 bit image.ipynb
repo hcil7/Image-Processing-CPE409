{
 "cells": [
  {
   "cell_type": "code",
   "execution_count": 12,
   "id": "96f1df48",
   "metadata": {},
   "outputs": [],
   "source": [
    "import cv2\n",
    "import numpy as np\n",
    "import pandas as pd\n",
    "import matplotlib.pyplot as plt\n",
    "%matplotlib inline"
   ]
  },
  {
   "cell_type": "code",
   "execution_count": 16,
   "id": "8b07135a",
   "metadata": {},
   "outputs": [],
   "source": [
    "img1=cv2.imread(\"moon.jpg\",0)\n",
    "intensity_level=10.666666666666666666666666666667\n",
    "current_compression=256/intensity_level\n",
    "img1_reduced=np.uint8(np.floor(np.double(img1)/intensity_level))\n",
    "l=current_compression-1\n",
    "norm_image=cv2.normalize(img1_reduced,None,0,255,norm_type=cv2.NORM_MINMAX)\n",
    "cv2.imshow(\"moon.jpg\",norm_image)\n",
    "cv2.waitKey(0)\n",
    "k=k+1"
   ]
  },
  {
   "cell_type": "code",
   "execution_count": 17,
   "id": "2e782dff",
   "metadata": {},
   "outputs": [],
   "source": [
    "\n",
    "img1=cv2.imread(\"moon.jpg\",0)\n",
    "k=4\n",
    "intensity_level=2**k\n",
    "current_compression=256/intensity_level\n",
    "img1_reduced=np.uint8(np.floor(np.double(img1)/intensity_level))\n",
    "l=current_compression-1\n",
    "norm_image=cv2.normalize(img1_reduced,None,0,255,norm_type=cv2.NORM_MINMAX)\n",
    "cv2.imshow(\"moon.jpg\",norm_image)\n",
    "cv2.waitKey(0)\n",
    "k=k+1"
   ]
  },
  {
   "cell_type": "code",
   "execution_count": 18,
   "id": "f10a21b9",
   "metadata": {},
   "outputs": [],
   "source": [
    "\n",
    "img1=cv2.imread(\"moon.jpg\",0)\n",
    "k=5\n",
    "intensity_level=2**k\n",
    "current_compression=256/intensity_level\n",
    "img1_reduced=np.uint8(np.floor(np.double(img1)/intensity_level))\n",
    "l=current_compression-1\n",
    "norm_image=cv2.normalize(img1_reduced,None,0,255,norm_type=cv2.NORM_MINMAX)\n",
    "cv2.imshow(\"moon.jpg\",norm_image)\n",
    "cv2.waitKey(0)\n",
    "k=k+1"
   ]
  },
  {
   "cell_type": "code",
   "execution_count": null,
   "id": "41d7b13b",
   "metadata": {},
   "outputs": [],
   "source": []
  }
 ],
 "metadata": {
  "kernelspec": {
   "display_name": "Python 3 (ipykernel)",
   "language": "python",
   "name": "python3"
  },
  "language_info": {
   "codemirror_mode": {
    "name": "ipython",
    "version": 3
   },
   "file_extension": ".py",
   "mimetype": "text/x-python",
   "name": "python",
   "nbconvert_exporter": "python",
   "pygments_lexer": "ipython3",
   "version": "3.9.12"
  }
 },
 "nbformat": 4,
 "nbformat_minor": 5
}
