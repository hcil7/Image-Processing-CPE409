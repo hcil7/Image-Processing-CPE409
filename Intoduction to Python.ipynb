{
 "cells": [
  {
   "cell_type": "code",
   "execution_count": 1,
   "id": "408e6ad4",
   "metadata": {},
   "outputs": [],
   "source": [
    "matris1=[[7,6,3],[4,4,2]]"
   ]
  },
  {
   "cell_type": "code",
   "execution_count": 3,
   "id": "8b1a6b9b",
   "metadata": {},
   "outputs": [],
   "source": [
    "matris2=[[-2,7,2],[1,1,9]]"
   ]
  },
  {
   "cell_type": "code",
   "execution_count": 4,
   "id": "c7311631",
   "metadata": {},
   "outputs": [],
   "source": [
    "import numpy as np"
   ]
  },
  {
   "cell_type": "code",
   "execution_count": 5,
   "id": "e0cccdbb",
   "metadata": {},
   "outputs": [],
   "source": [
    "array1=np.zeros((3,2))"
   ]
  },
  {
   "cell_type": "code",
   "execution_count": 7,
   "id": "57a28ae1",
   "metadata": {},
   "outputs": [
    {
     "name": "stdout",
     "output_type": "stream",
     "text": [
      "[[0. 0.]\n",
      " [0. 0.]\n",
      " [0. 0.]]\n"
     ]
    }
   ],
   "source": [
    "print(array1)"
   ]
  },
  {
   "cell_type": "code",
   "execution_count": 8,
   "id": "f85251d5",
   "metadata": {},
   "outputs": [],
   "source": [
    "array2=np.ones((3,3))"
   ]
  },
  {
   "cell_type": "code",
   "execution_count": 9,
   "id": "4be51df8",
   "metadata": {},
   "outputs": [
    {
     "name": "stdout",
     "output_type": "stream",
     "text": [
      "[[1. 1. 1.]\n",
      " [1. 1. 1.]\n",
      " [1. 1. 1.]]\n"
     ]
    }
   ],
   "source": [
    "print(array2)"
   ]
  },
  {
   "cell_type": "code",
   "execution_count": 23,
   "id": "f5db375b",
   "metadata": {},
   "outputs": [],
   "source": [
    "random_number=np.random.rand(4)"
   ]
  },
  {
   "cell_type": "code",
   "execution_count": 24,
   "id": "e469a18d",
   "metadata": {},
   "outputs": [
    {
     "name": "stdout",
     "output_type": "stream",
     "text": [
      "[0.37895049 0.93115777 0.71974867 0.54626761]\n"
     ]
    }
   ],
   "source": [
    "print(random_number)"
   ]
  },
  {
   "cell_type": "code",
   "execution_count": 25,
   "id": "2cceaf19",
   "metadata": {},
   "outputs": [
    {
     "name": "stdout",
     "output_type": "stream",
     "text": [
      "variable2 is greater than variable1\n"
     ]
    }
   ],
   "source": [
    "variable1=24\n",
    "variable2=33\n",
    "if(variable1>=variable2):\n",
    "    print(\"variable1 is greater than variable2\")\n",
    "elif(variable1==variable2):\n",
    "    print(\"the numbers are equal\")\n",
    "else:\n",
    "    print(\"variable2 is greater than variable1\")\n",
    "    "
   ]
  },
  {
   "cell_type": "code",
   "execution_count": 29,
   "id": "52c5b562",
   "metadata": {},
   "outputs": [
    {
     "name": "stdout",
     "output_type": "stream",
     "text": [
      "12\n",
      "13\n",
      "14\n",
      "15\n",
      "16\n"
     ]
    }
   ],
   "source": [
    "list1=[12,13,14,15,16]\n",
    "for i in list1:\n",
    "    print(i)"
   ]
  },
  {
   "cell_type": "code",
   "execution_count": 28,
   "id": "78f5b45b",
   "metadata": {},
   "outputs": [
    {
     "name": "stdout",
     "output_type": "stream",
     "text": [
      "96\n"
     ]
    }
   ],
   "source": [
    "list2=[2,9,17,3,19]\n",
    "list3=[13,4,4,5,20]\n",
    "def sum_arrays(array1,array2):\n",
    "    sum_of_arrays=0\n",
    "    for i in range(len(array1)):\n",
    "        sum_of_arrays+=array1[i]+array2[i]\n",
    "    return sum_of_arrays\n",
    "print(sum_arrays(list2,list3))"
   ]
  },
  {
   "cell_type": "code",
   "execution_count": 30,
   "id": "1df99538",
   "metadata": {},
   "outputs": [
    {
     "name": "stdout",
     "output_type": "stream",
     "text": [
      "please enter somethingselam\n",
      "selam\n"
     ]
    }
   ],
   "source": [
    "input1=input(\"please enter something\")\n",
    "def print_new(something):\n",
    "    print(something)\n",
    "print_new(input1)"
   ]
  },
  {
   "cell_type": "code",
   "execution_count": null,
   "id": "869d48f7",
   "metadata": {},
   "outputs": [],
   "source": []
  }
 ],
 "metadata": {
  "kernelspec": {
   "display_name": "Python 3 (ipykernel)",
   "language": "python",
   "name": "python3"
  },
  "language_info": {
   "codemirror_mode": {
    "name": "ipython",
    "version": 3
   },
   "file_extension": ".py",
   "mimetype": "text/x-python",
   "name": "python",
   "nbconvert_exporter": "python",
   "pygments_lexer": "ipython3",
   "version": "3.9.12"
  }
 },
 "nbformat": 4,
 "nbformat_minor": 5
}
