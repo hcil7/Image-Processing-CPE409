{
 "cells": [
  {
   "cell_type": "code",
   "execution_count": 2,
   "id": "6fb703a4",
   "metadata": {},
   "outputs": [],
   "source": [
    "import cv2\n",
    "import numpy as np"
   ]
  },
  {
   "cell_type": "code",
   "execution_count": 5,
   "id": "c1af3881",
   "metadata": {},
   "outputs": [],
   "source": [
    "image=cv2.imread('view.jpg')\n",
    "kernel1=np.ones((5,5),np.float32)/30\n",
    "img=cv2.filter2D(src=image,ddepth=-1,kernel=kernel1)"
   ]
  },
  {
   "cell_type": "code",
   "execution_count": 7,
   "id": "aef026e5",
   "metadata": {},
   "outputs": [],
   "source": [
    "cv2.imshow('Original',image)\n",
    "cv2.imshow('Kernel Blur',img)\n",
    "cv2.waitKey()\n",
    "cv2.destroyAllWindows()"
   ]
  },
  {
   "cell_type": "code",
   "execution_count": null,
   "id": "b8dea1a4",
   "metadata": {},
   "outputs": [],
   "source": []
  }
 ],
 "metadata": {
  "kernelspec": {
   "display_name": "Python 3 (ipykernel)",
   "language": "python",
   "name": "python3"
  },
  "language_info": {
   "codemirror_mode": {
    "name": "ipython",
    "version": 3
   },
   "file_extension": ".py",
   "mimetype": "text/x-python",
   "name": "python",
   "nbconvert_exporter": "python",
   "pygments_lexer": "ipython3",
   "version": "3.9.12"
  }
 },
 "nbformat": 4,
 "nbformat_minor": 5
}
