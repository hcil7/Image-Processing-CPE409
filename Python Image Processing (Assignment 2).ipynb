{
 "cells": [
  {
   "cell_type": "code",
   "execution_count": 8,
   "id": "8c7dac3c",
   "metadata": {},
   "outputs": [],
   "source": [
    "import cv2\n",
    "import numpy as np"
   ]
  },
  {
   "cell_type": "code",
   "execution_count": 3,
   "id": "ab29c7d4",
   "metadata": {},
   "outputs": [],
   "source": [
    "image1=cv2.imread(\"view.jpg\")"
   ]
  },
  {
   "cell_type": "code",
   "execution_count": 4,
   "id": "36c0ee3b",
   "metadata": {},
   "outputs": [],
   "source": [
    "cv2.imshow(\"View\",image1)"
   ]
  },
  {
   "cell_type": "code",
   "execution_count": 5,
   "id": "9f92f7ee",
   "metadata": {},
   "outputs": [
    {
     "name": "stdout",
     "output_type": "stream",
     "text": [
      "65703\n",
      "uint8\n",
      "(121, 181, 3)\n"
     ]
    }
   ],
   "source": [
    "print(image1.size)\n",
    "print(image1.dtype)\n",
    "print(image1.shape)"
   ]
  },
  {
   "cell_type": "code",
   "execution_count": 6,
   "id": "d5c43ef7",
   "metadata": {},
   "outputs": [],
   "source": [
    "cv2.waitKey(0)\n",
    "cv2.destroyAllWindows()"
   ]
  },
  {
   "cell_type": "code",
   "execution_count": 7,
   "id": "3deb36c7",
   "metadata": {},
   "outputs": [],
   "source": [
    "#Creating a matrix"
   ]
  },
  {
   "cell_type": "code",
   "execution_count": 8,
   "id": "9a37d4b3",
   "metadata": {},
   "outputs": [],
   "source": [
    "import matplotlib.pyplot as plt"
   ]
  },
  {
   "cell_type": "code",
   "execution_count": 9,
   "id": "732f5604",
   "metadata": {},
   "outputs": [
    {
     "data": {
      "image/png": "[encoded data removed]",
      "text/plain": [
       "<Figure size 720x288 with 1 Axes>"
      ]
     },
     "metadata": {
      "needs_background": "light"
     },
     "output_type": "display_data"
    }
   ],
   "source": [
    "row=145\n",
    "col=145\n",
    "img=np.zeros((row,col))\n",
    "img[35:45,:]=0.5\n",
    "img[:,55:60]=1\n",
    "plt.figure(figsize=(10,4))\n",
    "plt.imshow(img)\n",
    "plt.show()"
   ]
  },
  {
   "cell_type": "code",
   "execution_count": 10,
   "id": "f91059fd",
   "metadata": {},
   "outputs": [],
   "source": [
    "#binary image"
   ]
  },
  {
   "cell_type": "code",
   "execution_count": 11,
   "id": "2abf197a",
   "metadata": {},
   "outputs": [],
   "source": [
    "height = 512\n",
    "width = 512\n",
    "img=np.random.randint(255,size=(height,width,1),dtype=np.uint8)\n",
    "\n",
    "cv2.imshow('Binary',img)"
   ]
  },
  {
   "cell_type": "code",
   "execution_count": 4,
   "id": "e3ec2c32",
   "metadata": {},
   "outputs": [],
   "source": [
    "vector = [1, 3, 5, 7, 9, 11, 13] "
   ]
  },
  {
   "cell_type": "code",
   "execution_count": 5,
   "id": "ab294e39",
   "metadata": {},
   "outputs": [
    {
     "data": {
      "text/plain": [
       "[1, 3, 5, 7, 9, 11, 13]"
      ]
     },
     "execution_count": 5,
     "metadata": {},
     "output_type": "execute_result"
    }
   ],
   "source": [
    "vector"
   ]
  },
  {
   "cell_type": "code",
   "execution_count": 6,
   "id": "bd65e53b",
   "metadata": {},
   "outputs": [
    {
     "data": {
      "text/plain": [
       "5"
      ]
     },
     "execution_count": 6,
     "metadata": {},
     "output_type": "execute_result"
    }
   ],
   "source": [
    "vector[2]"
   ]
  },
  {
   "cell_type": "code",
   "execution_count": 10,
   "id": "dcfdb98f",
   "metadata": {},
   "outputs": [
    {
     "data": {
      "text/plain": [
       "array([ 1,  3,  5,  7,  9, 11, 13])"
      ]
     },
     "execution_count": 10,
     "metadata": {},
     "output_type": "execute_result"
    }
   ],
   "source": [
    "tpose=np.transpose(vector)\n",
    "tpose"
   ]
  },
  {
   "cell_type": "code",
   "execution_count": 13,
   "id": "ebf809af",
   "metadata": {},
   "outputs": [
    {
     "data": {
      "text/plain": [
       "[5, 7, 9]"
      ]
     },
     "execution_count": 13,
     "metadata": {},
     "output_type": "execute_result"
    }
   ],
   "source": [
    "value=vector[2:5]\n",
    "value"
   ]
  },
  {
   "cell_type": "code",
   "execution_count": 14,
   "id": "d18e6a35",
   "metadata": {},
   "outputs": [
    {
     "data": {
      "text/plain": [
       "[3, 5, 7, 9, 11]"
      ]
     },
     "execution_count": 14,
     "metadata": {},
     "output_type": "execute_result"
    }
   ],
   "source": [
    "value=vector[1:6]\n",
    "value"
   ]
  },
  {
   "cell_type": "code",
   "execution_count": 15,
   "id": "17a99cc4",
   "metadata": {},
   "outputs": [
    {
     "data": {
      "text/plain": [
       "[9, 11, 13]"
      ]
     },
     "execution_count": 15,
     "metadata": {},
     "output_type": "execute_result"
    }
   ],
   "source": [
    "value=vector[4:]\n",
    "value"
   ]
  },
  {
   "cell_type": "code",
   "execution_count": 16,
   "id": "e29d7953",
   "metadata": {},
   "outputs": [
    {
     "data": {
      "text/plain": [
       "[3, 7, 11]"
      ]
     },
     "execution_count": 16,
     "metadata": {},
     "output_type": "execute_result"
    }
   ],
   "source": [
    "value=vector[1::2]\n",
    "value"
   ]
  },
  {
   "cell_type": "code",
   "execution_count": 17,
   "id": "bbbb1291",
   "metadata": {},
   "outputs": [
    {
     "data": {
      "text/plain": [
       "[13, 9, 5, 1]"
      ]
     },
     "execution_count": 17,
     "metadata": {},
     "output_type": "execute_result"
    }
   ],
   "source": [
    "value=vector[::-2]\n",
    "value"
   ]
  },
  {
   "cell_type": "code",
   "execution_count": 19,
   "id": "895b1c4f",
   "metadata": {},
   "outputs": [
    {
     "name": "stdout",
     "output_type": "stream",
     "text": [
      "matris=  [[4, 5, 3], [6, 2, -2], [11, 7, 17]]\n",
      "matris[1]=  [6, 2, -2]\n",
      "matris=[2,2]=  17\n",
      "matris=[0][-1]=  3\n"
     ]
    }
   ],
   "source": [
    "matris=[[4,5,3],\n",
    "      [6,2,-2],\n",
    "      [11,7,17]]\n",
    "print(\"matris= \",matris)\n",
    "print(\"matris[1]= \",matris[1])\n",
    "print(\"matris=[2,2]= \",matris[2][2])\n",
    "print(\"matris=[0][-1]= \",matris[0][-1])"
   ]
  },
  {
   "cell_type": "code",
   "execution_count": 22,
   "id": "bfecd5f0",
   "metadata": {},
   "outputs": [
    {
     "name": "stdout",
     "output_type": "stream",
     "text": [
      "type: <class 'numpy.ndarray'>\n",
      "array= \n",
      " [[ 4  6  8]\n",
      " [12  7 -1]\n",
      " [ 5  5 -5]\n",
      " [ 0  0 22]] \n",
      "\n",
      "array[1]: [12  7 -1]\n",
      "array[2][2]: -5\n",
      "array[0][-1]: 8\n"
     ]
    }
   ],
   "source": [
    "array=np.array([[4,6,8],\n",
    "                [12,7,-1],\n",
    "                [5,5,-5],\n",
    "                [0,0,22]])\n",
    "print(\"type:\",type(array))\n",
    "print(\"array=\",\"\\n\",array,\"\\n\")\n",
    "print(\"array[1]:\",array[1])\n",
    "print(\"array[2][2]:\",array[2][2])\n",
    "print(\"array[0][-1]:\",array[0][-1])"
   ]
  },
  {
   "cell_type": "code",
   "execution_count": 23,
   "id": "d00f2b39",
   "metadata": {},
   "outputs": [],
   "source": [
    "#Indexing in matrices"
   ]
  },
  {
   "cell_type": "code",
   "execution_count": 24,
   "id": "3d7f5133",
   "metadata": {},
   "outputs": [
    {
     "data": {
      "text/plain": [
       "array([ 0, 17, 11])"
      ]
     },
     "execution_count": 24,
     "metadata": {},
     "output_type": "execute_result"
    }
   ],
   "source": [
    "array2 = np.array([[4, 5, 0], [3, 7, 17], [0, 1, 11]])\n",
    "array2[:,2]"
   ]
  },
  {
   "cell_type": "code",
   "execution_count": 25,
   "id": "abd0b938",
   "metadata": {},
   "outputs": [
    {
     "name": "stdout",
     "output_type": "stream",
     "text": [
      "[12 24 33]\n",
      "[12 24 33]\n"
     ]
    }
   ],
   "source": [
    "array3 = np.array([[3, 8, 12], [5, 12, 13], [4, 4, 8]])\n",
    "arraysum = sum ( array3[ : ] )\n",
    "print(arraysum)\n",
    "x = sum(array3)\n",
    "print(x)\n"
   ]
  },
  {
   "cell_type": "code",
   "execution_count": null,
   "id": "52b79f60",
   "metadata": {},
   "outputs": [],
   "source": []
  }
 ],
 "metadata": {
  "kernelspec": {
   "display_name": "Python 3 (ipykernel)",
   "language": "python",
   "name": "python3"
  },
  "language_info": {
   "codemirror_mode": {
    "name": "ipython",
    "version": 3
   },
   "file_extension": ".py",
   "mimetype": "text/x-python",
   "name": "python",
   "nbconvert_exporter": "python",
   "pygments_lexer": "ipython3",
   "version": "3.9.12"
  }
 },
 "nbformat": 4,
 "nbformat_minor": 5
}
