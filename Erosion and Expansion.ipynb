{
 "cells": [
  {
   "cell_type": "code",
   "execution_count": 5,
   "id": "8c4ee6fd",
   "metadata": {},
   "outputs": [],
   "source": [
    "import cv2\n",
    "import numpy as np"
   ]
  },
  {
   "cell_type": "code",
   "execution_count": 6,
   "id": "6134b09f",
   "metadata": {},
   "outputs": [],
   "source": [
    "img=cv2.imread('view.jpg',0)"
   ]
  },
  {
   "cell_type": "code",
   "execution_count": 7,
   "id": "ed76731e",
   "metadata": {},
   "outputs": [],
   "source": [
    "kernel=np.ones((5,5),np.uint8)"
   ]
  },
  {
   "cell_type": "code",
   "execution_count": 8,
   "id": "8150ad81",
   "metadata": {},
   "outputs": [],
   "source": [
    "img_erosion=cv2.erode(img,kernel,iterations=1)\n",
    "img_dilation=cv2.dilate(img,kernel,iterations=1)"
   ]
  },
  {
   "cell_type": "code",
   "execution_count": 9,
   "id": "669ac3a4",
   "metadata": {},
   "outputs": [
    {
     "data": {
      "text/plain": [
       "-1"
      ]
     },
     "execution_count": 9,
     "metadata": {},
     "output_type": "execute_result"
    }
   ],
   "source": [
    "cv2.imshow('input',img)\n",
    "cv2.imshow('erosion',img_erosion)\n",
    "cv2.imshow('dilation',img_dilation)\n",
    "cv2.waitKey(0)"
   ]
  },
  {
   "cell_type": "code",
   "execution_count": null,
   "id": "9671c478",
   "metadata": {},
   "outputs": [],
   "source": []
  }
 ],
 "metadata": {
  "kernelspec": {
   "display_name": "Python 3 (ipykernel)",
   "language": "python",
   "name": "python3"
  },
  "language_info": {
   "codemirror_mode": {
    "name": "ipython",
    "version": 3
   },
   "file_extension": ".py",
   "mimetype": "text/x-python",
   "name": "python",
   "nbconvert_exporter": "python",
   "pygments_lexer": "ipython3",
   "version": "3.9.12"
  }
 },
 "nbformat": 4,
 "nbformat_minor": 5
}
