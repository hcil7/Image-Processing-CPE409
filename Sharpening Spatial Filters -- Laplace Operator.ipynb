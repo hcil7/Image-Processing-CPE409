{
 "cells": [
  {
   "cell_type": "code",
   "execution_count": 51,
   "id": "3ed4501f",
   "metadata": {},
   "outputs": [
    {
     "name": "stdout",
     "output_type": "stream",
     "text": [
      "['-f', 'C:\\\\Users\\\\Hasan\\\\AppData\\\\Roaming\\\\jupyter\\\\runtime\\\\kernel-551521b4-9e38-4892-8c15-555a656cd5dc.json']\n"
     ]
    }
   ],
   "source": [
    "import sys\n",
    "import cv2 as cv\n",
    "print (sys.argv[1:])"
   ]
  },
  {
   "cell_type": "code",
   "execution_count": 55,
   "id": "51fc02e4",
   "metadata": {},
   "outputs": [],
   "source": [
    "def main(argv):\n",
    "    depth=cv.CV_16S\n",
    "    kernel_size=3\n",
    "    window_name=\"Laplace Homework\"\n",
    "    \n",
    "    image_name = argv[0] if len(argv) < 0 else 'moon.jpg'\n",
    "\n",
    "    src=cv.imread(cv.samples.findFile(image_name), cv.IMREAD_COLOR)\n",
    "\n",
    "    if src is None:\n",
    "        print(\"error opening image\")\n",
    "        print(\"Program Arguments: [image_name -- default view.jpg]\")\n",
    "        return -1\n",
    "    \n",
    "    src=cv.GaussianBlur(src,(3,3),0)\n",
    "    #noise reduced\n",
    "    \n",
    "    src_gray=cv.cvtColor(src,cv.COLOR_BGR2GRAY)\n",
    "    #converted to gray\n",
    "    \n",
    "    \n",
    "    dst=cv.Laplacian(src_gray,depth,ksize=kernel_size)\n",
    "    #laplacian applied\n",
    "    \n",
    "    abs_dst=cv.convertScaleAbs(dst)\n",
    "    #converted to uint8\n",
    "    \n",
    "    cv.imshow(window_name,abs_dst)\n",
    "    cv.waitKey(0)\n",
    "    #displayed\n",
    "    \n",
    "    return 0\n"
   ]
  },
  {
   "cell_type": "code",
   "execution_count": 57,
   "id": "a28055f9",
   "metadata": {},
   "outputs": [],
   "source": [
    "if __name__== \"__main__\":\n",
    "    main(sys.argv[1:])"
   ]
  },
  {
   "cell_type": "code",
   "execution_count": null,
   "id": "af68b7d5",
   "metadata": {},
   "outputs": [],
   "source": []
  }
 ],
 "metadata": {
  "kernelspec": {
   "display_name": "Python 3 (ipykernel)",
   "language": "python",
   "name": "python3"
  },
  "language_info": {
   "codemirror_mode": {
    "name": "ipython",
    "version": 3
   },
   "file_extension": ".py",
   "mimetype": "text/x-python",
   "name": "python",
   "nbconvert_exporter": "python",
   "pygments_lexer": "ipython3",
   "version": "3.9.12"
  }
 },
 "nbformat": 4,
 "nbformat_minor": 5
}
